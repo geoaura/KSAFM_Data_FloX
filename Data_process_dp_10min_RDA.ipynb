{
  "nbformat": 4,
  "nbformat_minor": 0,
  "metadata": {
    "colab": {
      "name": "Data_process_dp_10min_RDA.ipynb",
      "provenance": [],
      "collapsed_sections": [],
      "mount_file_id": "1IQ3HiNVdk8npSRzBCnHncZct7V3FUrU0",
      "authorship_tag": "ABX9TyOCNBjIb5tUTYPbB6cHKk/2",
      "include_colab_link": true
    },
    "kernelspec": {
      "name": "python3",
      "display_name": "Python 3"
    },
    "language_info": {
      "name": "python"
    }
  },
  "cells": [
    {
      "cell_type": "markdown",
      "metadata": {
        "id": "view-in-github",
        "colab_type": "text"
      },
      "source": [
        "<a href=\"https://colab.research.google.com/github/geoaura/KSAFM_Data_FloX/blob/main/Data_process_dp_10min_RDA.ipynb\" target=\"_parent\"><img src=\"https://colab.research.google.com/assets/colab-badge.svg\" alt=\"Open In Colab\"/></a>"
      ]
    },
    {
      "cell_type": "code",
      "source": [
        "###########################################\n",
        "#엑셀 자료 처리 python code\n",
        "###########################################\n",
        "#Input: excel\n",
        "#Output: csv\n",
        "###########################################\n",
        "#Code update info.\n",
        "#v01.0, 22.07.08., made by Jae-Hyun RYU\n",
        "#       Read, Process, and Write code\n",
        "###########################################"
      ],
      "metadata": {
        "id": "CjykcDoEIHj9"
      },
      "execution_count": null,
      "outputs": []
    },
    {
      "cell_type": "markdown",
      "source": [
        "# 라이브러리 읽기"
      ],
      "metadata": {
        "id": "R2K4c5QRI_m_"
      }
    },
    {
      "cell_type": "code",
      "execution_count": 8,
      "metadata": {
        "id": "OWO1BucJk4nW"
      },
      "outputs": [],
      "source": [
        "import numpy as np\n",
        "import pandas as pd\n",
        "from datetime import datetime, timedelta"
      ]
    },
    {
      "cell_type": "markdown",
      "source": [
        "#설정"
      ],
      "metadata": {
        "id": "QRnc8392JBE_"
      }
    },
    {
      "cell_type": "code",
      "source": [
        "input_data ='/content/drive/MyDrive/Colab_Notebooks/RDA/LineQ/0706_CR1000X_gj1_GJ7_10min_2022_06_22_15_30_57.xlsx'\n",
        "output_path='/content/drive/MyDrive/Colab_Notebooks/RDA/LineQ/0706_CR1000X_gj1_GJ7_10min_2022_06_22_15_30_57_ryu.csv'\n",
        "set_first_date='2022-06-10 11:00:00'\n",
        "set_end_date  ='2022-06-22 15:30:00'\n",
        "set_time_freq ='10min'"
      ],
      "metadata": {
        "id": "LeijqOQ8Fzwc"
      },
      "execution_count": 10,
      "outputs": []
    },
    {
      "cell_type": "markdown",
      "source": [
        "#자료 읽기"
      ],
      "metadata": {
        "id": "LGOJV8m6JCWm"
      }
    },
    {
      "cell_type": "code",
      "source": [
        "column_names=['date','time','water_level_mm','Batt_volt_Min','PTemp']\n",
        "dataset=pd.read_excel(input_data,skiprows=1)[column_names]\n",
        "dataset['water_level_mm']=pd.to_numeric(dataset['water_level_mm'], errors='coerce')\n",
        "dataset['Batt_volt_Min'] =pd.to_numeric(dataset['Batt_volt_Min'] , errors='coerce')\n",
        "dataset['PTemp']         =pd.to_numeric(dataset['PTemp']         , errors='coerce')"
      ],
      "metadata": {
        "id": "-PCoAExVlFWN"
      },
      "execution_count": 11,
      "outputs": []
    },
    {
      "cell_type": "markdown",
      "source": [
        "#날짜와 시간 합치기"
      ],
      "metadata": {
        "id": "gr8zo3zYJDhV"
      }
    },
    {
      "cell_type": "code",
      "source": [
        "merge_datetime = [datetime.combine(a,b) for a, b in zip(dataset['date'], dataset['time'])]\n",
        "dataset.insert(0,\"datetime\",merge_datetime, True)"
      ],
      "metadata": {
        "id": "Pw4waMg1ANEW"
      },
      "execution_count": 12,
      "outputs": []
    },
    {
      "cell_type": "markdown",
      "source": [
        "# 시간 간격 설정"
      ],
      "metadata": {
        "id": "JQquww3aJFe8"
      }
    },
    {
      "cell_type": "code",
      "source": [
        "first_date= datetime.strptime(set_first_date,'%Y-%m-%d %H:%M:%S')\n",
        "end_date  = datetime.strptime(set_end_date  ,'%Y-%m-%d %H:%M:%S')\n",
        "refTT      = pd.date_range(first_date, end_date, freq=set_time_freq)"
      ],
      "metadata": {
        "id": "KlYecYDJnWv2"
      },
      "execution_count": 13,
      "outputs": []
    },
    {
      "cell_type": "markdown",
      "source": [
        "#설정된 시간 간격에 따라 자료 처리"
      ],
      "metadata": {
        "id": "qzhi484_JHOg"
      }
    },
    {
      "cell_type": "code",
      "source": [
        "Xaxis_date=[]\n",
        "water=[]\n",
        "batt =[]\n",
        "temp =[]\n",
        "for dn in refTT[:]:\n",
        "  first_hour=datetime.strftime(dn,'%Y-%m-%d %H:%M:%S') \n",
        "  end_hour  =datetime.strptime(first_hour,'%Y-%m-%d %H:%M:%S')+timedelta(minutes=10)\n",
        "\n",
        "  dataset_filter=dataset.copy()\n",
        "  dataset_filter=dataset_filter[(dataset_filter['datetime']>first_hour) & (dataset_filter['datetime']<=end_hour)]\n",
        "\n",
        "  water_value=pd.to_numeric(dataset_filter['water_level_mm'], errors='coerce')\n",
        "  batt_value =pd.to_numeric(dataset_filter['Batt_volt_Min'] , errors='coerce')\n",
        "  temp_value =pd.to_numeric(dataset_filter['PTemp']         , errors='coerce')\n",
        "\n",
        "  Xaxis_date.append( datetime.strftime(end_hour,'%Y-%m-%d %H:%M') )\n",
        "\n",
        "  if len(water_value)>0:\n",
        "    water.append(round(np.nanmedian(water_value),4))\n",
        "    batt.append(round(np.nanmin(batt_value),4))\n",
        "    temp.append(round(np.nanmedian(temp_value),4))\n",
        "  else:\n",
        "    water.append(-999)\n",
        "    batt.append(-999)\n",
        "    temp.append(-999)"
      ],
      "metadata": {
        "id": "-IhOBj4FqT_n"
      },
      "execution_count": 14,
      "outputs": []
    },
    {
      "cell_type": "markdown",
      "source": [
        "#자료 저장"
      ],
      "metadata": {
        "id": "Yrs5pXnCJJ1q"
      }
    },
    {
      "cell_type": "code",
      "source": [
        "data_array=list(zip(Xaxis_date, water, batt, temp))\n",
        "save_data_array=pd.DataFrame(data_array)\n",
        "save_data_array=save_data_array.drop_duplicates()\n",
        "\n",
        "column_names=['datetime','water_level_mm','Batt_volt_Min','PTemp']\n",
        "save_data_array.to_csv(output_path, sep=',', na_rep='-999', header=column_names,  index=False) "
      ],
      "metadata": {
        "id": "qf6sW0Jupd9s"
      },
      "execution_count": 15,
      "outputs": []
    },
    {
      "cell_type": "code",
      "source": [
        ""
      ],
      "metadata": {
        "id": "ndWFRHMcHx5s"
      },
      "execution_count": 15,
      "outputs": []
    }
  ]
}